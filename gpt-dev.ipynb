{
 "cells": [
  {
   "cell_type": "code",
   "execution_count": 2,
   "id": "f4b43acb",
   "metadata": {},
   "outputs": [],
   "source": [
    "# https://www.youtube.com/watch?v=kCc8FmEb1nY&ab_channel=AndrejKarpathy"
   ]
  },
  {
   "cell_type": "code",
   "execution_count": 3,
   "id": "c2b3f692",
   "metadata": {},
   "outputs": [
    {
     "name": "stdout",
     "output_type": "stream",
     "text": [
      "gpt-dev.ipynb  input.txt\r\n"
     ]
    }
   ],
   "source": [
    "!ls"
   ]
  },
  {
   "cell_type": "code",
   "execution_count": 4,
   "id": "86247e79",
   "metadata": {},
   "outputs": [],
   "source": [
    "# have downloaded the tiny shakespeare dataset"
   ]
  },
  {
   "cell_type": "code",
   "execution_count": 5,
   "id": "87c7188f",
   "metadata": {},
   "outputs": [],
   "source": [
    "# read in the file to inspect it\n",
    "with open(\"input.txt\", mode=\"r\", encoding=\"utf-8\") as f:\n",
    "    text = f.read()"
   ]
  },
  {
   "cell_type": "code",
   "execution_count": 6,
   "id": "7e1e4469",
   "metadata": {},
   "outputs": [
    {
     "data": {
      "text/plain": [
       "1115394"
      ]
     },
     "execution_count": 6,
     "metadata": {},
     "output_type": "execute_result"
    }
   ],
   "source": [
    "len(text)"
   ]
  },
  {
   "cell_type": "code",
   "execution_count": 7,
   "id": "8805c5b7",
   "metadata": {},
   "outputs": [
    {
     "data": {
      "text/plain": [
       "'First Citizen:\\nBefore we proceed any further, hear me speak.\\n\\nAll:\\nSpeak, speak.\\n\\nFirst Citizen:\\nYou'"
      ]
     },
     "execution_count": 7,
     "metadata": {},
     "output_type": "execute_result"
    }
   ],
   "source": [
    "text[:100]"
   ]
  },
  {
   "cell_type": "code",
   "execution_count": 8,
   "id": "9d0817f2",
   "metadata": {},
   "outputs": [],
   "source": [
    "# create a list of the unique characters within the text\n",
    "chars = sorted(list(set(text)))\n",
    "# get the size of the vocabulary\n",
    "vocab_size = len(chars)"
   ]
  },
  {
   "cell_type": "code",
   "execution_count": 9,
   "id": "26629ed0",
   "metadata": {
    "scrolled": true
   },
   "outputs": [
    {
     "name": "stdout",
     "output_type": "stream",
     "text": [
      "\n",
      " !$&',-.3:;?ABCDEFGHIJKLMNOPQRSTUVWXYZabcdefghijklmnopqrstuvwxyz\n",
      "65\n"
     ]
    }
   ],
   "source": [
    "print(\"\".join(chars))\n",
    "print(vocab_size)"
   ]
  },
  {
   "cell_type": "code",
   "execution_count": 10,
   "id": "edc4c379",
   "metadata": {},
   "outputs": [],
   "source": [
    "# tokenise the input text\n",
    "# convert the raw text string into a sequence of integers according to the vocabulary of possible elements\n",
    "# character level language model. We are going to convert individual characters into integers"
   ]
  },
  {
   "cell_type": "code",
   "execution_count": 11,
   "id": "0d2c8ad3",
   "metadata": {},
   "outputs": [],
   "source": [
    "# create a mapping from characters to integers. This is the tokeniser\n",
    "stoi = { ch:i for i, ch in enumerate(chars)} # strings to integers. This makes a dict with chars as the keys and the\n",
    "# corresponding integer as the value.\n",
    "\n",
    "itos = { i:ch for i, ch in enumerate(chars)} # ints to strings. Creates a dict with int keys and char values.\n",
    "\n",
    "encode = lambda s: [stoi[c] for c in s] # converts a string of chars to ints, by character\n",
    "decode = lambda s: \"\".join([itos[i] for i in s]) # converts a list of ints to chars, by character and joins them"
   ]
  },
  {
   "cell_type": "code",
   "execution_count": 16,
   "id": "c3e1437b",
   "metadata": {},
   "outputs": [
    {
     "name": "stdout",
     "output_type": "stream",
     "text": [
      "[20, 43, 50, 50, 53, 1, 58, 46, 43, 56, 43, 2]\n",
      "Hello there!\n"
     ]
    }
   ],
   "source": [
    "print(encode(\"Hello there!\"))\n",
    "print(decode([20, 43, 50, 50, 53, 1, 58, 46, 43, 56, 43, 2]))"
   ]
  },
  {
   "cell_type": "code",
   "execution_count": 21,
   "id": "27b88350",
   "metadata": {},
   "outputs": [
    {
     "data": {
      "text/plain": [
       "[18, 47, 56, 57, 58, 1, 15, 47, 58, 47]"
      ]
     },
     "execution_count": 21,
     "metadata": {},
     "output_type": "execute_result"
    }
   ],
   "source": [
    "encode(text)[:10]"
   ]
  },
  {
   "cell_type": "code",
   "execution_count": 17,
   "id": "49f0cf2d",
   "metadata": {},
   "outputs": [],
   "source": [
    "# We will encode the text file and wrap it in a pytorch tensor\n",
    "# pytorch tensors are multi-dimensional arrays that can be operated on by cuda-capable GPUs.\n",
    "# The GPUs have hundreds of cores, which can collectively run thousands of threads.\n",
    "import torch\n",
    "data = torch.tensor(encode(text), dtype=torch.long)"
   ]
  },
  {
   "cell_type": "code",
   "execution_count": 18,
   "id": "c92edb53",
   "metadata": {},
   "outputs": [],
   "source": [
    "# separate the data into train and test split\n",
    "n = int(0.9*len(data)) # take the first 90% of the data\n",
    "train_data = data[:n] # training data\n",
    "val_data = data[n:] # validation data"
   ]
  },
  {
   "cell_type": "code",
   "execution_count": 19,
   "id": "2d9a2e2f",
   "metadata": {},
   "outputs": [
    {
     "data": {
      "text/plain": [
       "tensor([18, 47, 56, 57, 58,  1, 15, 47, 58])"
      ]
     },
     "execution_count": 19,
     "metadata": {},
     "output_type": "execute_result"
    }
   ],
   "source": [
    "block_size = 8 # the size of data which will be passed to the transformer\n",
    "train_data[:block_size+1]"
   ]
  },
  {
   "cell_type": "code",
   "execution_count": 20,
   "id": "6bfbfca8",
   "metadata": {},
   "outputs": [
    {
     "name": "stdout",
     "output_type": "stream",
     "text": [
      "when input is tensor([18]), the target is: 47\n",
      "when input is tensor([18, 47]), the target is: 56\n",
      "when input is tensor([18, 47, 56]), the target is: 57\n",
      "when input is tensor([18, 47, 56, 57]), the target is: 58\n",
      "when input is tensor([18, 47, 56, 57, 58]), the target is: 1\n",
      "when input is tensor([18, 47, 56, 57, 58,  1]), the target is: 15\n",
      "when input is tensor([18, 47, 56, 57, 58,  1, 15]), the target is: 47\n",
      "when input is tensor([18, 47, 56, 57, 58,  1, 15, 47]), the target is: 58\n"
     ]
    }
   ],
   "source": [
    "x = train_data[:block_size] # x is the input\n",
    "y = train_data[1:block_size+1] # y is the target for each position in the input\n",
    "for t in range(block_size):\n",
    "    context = x[:t+1] # context is all of the characters up to and including t\n",
    "    target = y[t] # the target is the t'th character in the targets array, y\n",
    "    print(f\"when input is {context}, the target is: {target}\")\n",
    "# this trains the transformer on contexts from as little as 1, up to block_size"
   ]
  },
  {
   "cell_type": "code",
   "execution_count": 22,
   "id": "faa640ac",
   "metadata": {},
   "outputs": [],
   "source": [
    "# We will feed multiple chunks of text (blocks) to the transformer at a time, in batches.\n",
    "# This is efficient as it uses more of the GPU as data can be processed in parallel.\n",
    "# The chunks of data are processed independently and do not interact or talk to each other."
   ]
  },
  {
   "cell_type": "code",
   "execution_count": 26,
   "id": "fece930d",
   "metadata": {},
   "outputs": [],
   "source": [
    "torch.manual_seed(1337)\n",
    "batch_size = 4 # how many independent sequences we will process in parallel, blocks, in every forward backward pass\n",
    "# in the transformer\n",
    "block_size = 8 # what is the maximum context length for predictions\n",
    "\n",
    "def get_batch(split):\n",
    "    # generate a small batch of data of inputs, x, and targets, y\n",
    "    data = train_data if split == 'train' else val_dat\n",
    "    xi = torch.randint(len(data) - block_size, (batch_size, 1)) # creates 4 (batch_size) row starting positions \n",
    "    # from the text data\n",
    "    x = torch.stack([data[i:i+block_size] for i in xi])\n",
    "    y = torch.stack([data[i+1:i+block_size+1] for i in xi])\n",
    "    return x, y"
   ]
  },
  {
   "cell_type": "code",
   "execution_count": 38,
   "id": "44233921",
   "metadata": {
    "collapsed": true
   },
   "outputs": [
    {
     "name": "stdout",
     "output_type": "stream",
     "text": [
      "when input is tensor([24]), target is 43\n",
      "when input is tensor([24, 43]), target is 58\n",
      "when input is tensor([24, 43, 58]), target is 5\n",
      "when input is tensor([24, 43, 58,  5]), target is 57\n",
      "when input is tensor([24, 43, 58,  5, 57]), target is 1\n",
      "when input is tensor([24, 43, 58,  5, 57,  1]), target is 46\n",
      "when input is tensor([24, 43, 58,  5, 57,  1, 46]), target is 43\n",
      "when input is tensor([24, 43, 58,  5, 57,  1, 46, 43]), target is 39\n",
      "when input is tensor([44]), target is 53\n",
      "when input is tensor([44, 53]), target is 56\n",
      "when input is tensor([44, 53, 56]), target is 1\n",
      "when input is tensor([44, 53, 56,  1]), target is 58\n",
      "when input is tensor([44, 53, 56,  1, 58]), target is 46\n",
      "when input is tensor([44, 53, 56,  1, 58, 46]), target is 39\n",
      "when input is tensor([44, 53, 56,  1, 58, 46, 39]), target is 58\n",
      "when input is tensor([44, 53, 56,  1, 58, 46, 39, 58]), target is 1\n",
      "when input is tensor([52]), target is 58\n",
      "when input is tensor([52, 58]), target is 1\n",
      "when input is tensor([52, 58,  1]), target is 58\n",
      "when input is tensor([52, 58,  1, 58]), target is 46\n",
      "when input is tensor([52, 58,  1, 58, 46]), target is 39\n",
      "when input is tensor([52, 58,  1, 58, 46, 39]), target is 58\n",
      "when input is tensor([52, 58,  1, 58, 46, 39, 58]), target is 1\n",
      "when input is tensor([52, 58,  1, 58, 46, 39, 58,  1]), target is 46\n",
      "when input is tensor([25]), target is 17\n",
      "when input is tensor([25, 17]), target is 27\n",
      "when input is tensor([25, 17, 27]), target is 10\n",
      "when input is tensor([25, 17, 27, 10]), target is 0\n",
      "when input is tensor([25, 17, 27, 10,  0]), target is 21\n",
      "when input is tensor([25, 17, 27, 10,  0, 21]), target is 1\n",
      "when input is tensor([25, 17, 27, 10,  0, 21,  1]), target is 54\n",
      "when input is tensor([25, 17, 27, 10,  0, 21,  1, 54]), target is 39\n"
     ]
    }
   ],
   "source": [
    "torch.manual_seed(1337)\n",
    "xb, yb = get_batch('train')\n",
    "\n",
    "for b in range(batch_size):\n",
    "    for t in range(block_size):\n",
    "        context = xb[b, :t+1]\n",
    "        target = yb[b, t]\n",
    "        print(f\"when input is {context}, target is {target}\")        "
   ]
  },
  {
   "cell_type": "code",
   "execution_count": 39,
   "id": "888108bf",
   "metadata": {},
   "outputs": [
    {
     "data": {
      "text/plain": [
       "tensor([[24, 43, 58,  5, 57,  1, 46, 43],\n",
       "        [44, 53, 56,  1, 58, 46, 39, 58],\n",
       "        [52, 58,  1, 58, 46, 39, 58,  1],\n",
       "        [25, 17, 27, 10,  0, 21,  1, 54]])"
      ]
     },
     "execution_count": 39,
     "metadata": {},
     "output_type": "execute_result"
    }
   ],
   "source": [
    "# our input to the transformer\n",
    "xb"
   ]
  },
  {
   "cell_type": "code",
   "execution_count": null,
   "id": "ab531cbf",
   "metadata": {},
   "outputs": [],
   "source": [
    "# https://youtu.be/kCc8FmEb1nY?t=1330"
   ]
  }
 ],
 "metadata": {
  "kernelspec": {
   "display_name": "Python 3 (ipykernel)",
   "language": "python",
   "name": "python3"
  },
  "language_info": {
   "codemirror_mode": {
    "name": "ipython",
    "version": 3
   },
   "file_extension": ".py",
   "mimetype": "text/x-python",
   "name": "python",
   "nbconvert_exporter": "python",
   "pygments_lexer": "ipython3",
   "version": "3.10.6"
  },
  "toc": {
   "base_numbering": 1,
   "nav_menu": {},
   "number_sections": true,
   "sideBar": true,
   "skip_h1_title": false,
   "title_cell": "Table of Contents",
   "title_sidebar": "Contents",
   "toc_cell": false,
   "toc_position": {},
   "toc_section_display": true,
   "toc_window_display": false
  }
 },
 "nbformat": 4,
 "nbformat_minor": 5
}
